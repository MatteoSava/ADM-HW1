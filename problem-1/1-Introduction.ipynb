{
 "cells": [
  {
   "cell_type": "markdown",
   "source": [
    "# Say \"Hello, World!\" With Python"
   ],
   "metadata": {}
  },
  {
   "cell_type": "code",
   "execution_count": null,
   "source": [
    "print(\"Hello, World!\")"
   ],
   "outputs": [],
   "metadata": {}
  },
  {
   "cell_type": "markdown",
   "source": [
    "# Python If-Else"
   ],
   "metadata": {}
  },
  {
   "cell_type": "code",
   "execution_count": null,
   "source": [
    "#!/bin/python3\r\n",
    "\r\n",
    "import math\r\n",
    "import os\r\n",
    "import random\r\n",
    "import re\r\n",
    "import sys\r\n",
    "\r\n",
    "\r\n",
    "\r\n",
    "if __name__ == '__main__':\r\n",
    "    n = int(input().strip())\r\n",
    "    if(n%2 == 0):\r\n",
    "        if(n>=2 and n<=5):\r\n",
    "            print(\"Not Weird\")\r\n",
    "        elif(n>=6 and n<=20):\r\n",
    "            print(\"Weird\")\r\n",
    "        elif(n>20):\r\n",
    "            print(\"Not Weird\")\r\n",
    "    else:\r\n",
    "        print(\"Weird\")"
   ],
   "outputs": [],
   "metadata": {}
  },
  {
   "cell_type": "markdown",
   "source": [
    "# Arithmetic Operators"
   ],
   "metadata": {}
  },
  {
   "cell_type": "code",
   "execution_count": null,
   "source": [
    "if __name__ == '__main__':\r\n",
    "    a = int(input())\r\n",
    "    b = int(input())\r\n",
    "    print(a+b)\r\n",
    "    print(a-b)\r\n",
    "    print(a*b)"
   ],
   "outputs": [],
   "metadata": {}
  },
  {
   "cell_type": "markdown",
   "source": [
    "# Python: Division"
   ],
   "metadata": {}
  },
  {
   "cell_type": "code",
   "execution_count": null,
   "source": [
    "if __name__ == '__main__':\r\n",
    "    a = int(input())\r\n",
    "    b = int(input())\r\n",
    "    print(a//b)\r\n",
    "    print(a/b)"
   ],
   "outputs": [],
   "metadata": {}
  },
  {
   "cell_type": "markdown",
   "source": [
    "# Loops"
   ],
   "metadata": {}
  },
  {
   "cell_type": "code",
   "execution_count": null,
   "source": [
    "if __name__ == '__main__':\r\n",
    "    n = int(input())\r\n",
    "    for i in range(0,n):\r\n",
    "        print(i**2)"
   ],
   "outputs": [],
   "metadata": {}
  },
  {
   "cell_type": "markdown",
   "source": [
    "# Write a function"
   ],
   "metadata": {}
  },
  {
   "cell_type": "code",
   "execution_count": null,
   "source": [
    "def is_leap(year):\r\n",
    "    leap = False\r\n",
    "    \r\n",
    "    if(year%4 == 0):\r\n",
    "        leap = True\r\n",
    "        if(year%100 == 0):\r\n",
    "            leap = False\r\n",
    "            if(year%400 == 0):\r\n",
    "                leap = True\r\n",
    "                    \r\n",
    "    return leap\r\n",
    "\r\n",
    "year = int(input())\r\n",
    "print(is_leap(year))"
   ],
   "outputs": [],
   "metadata": {}
  },
  {
   "cell_type": "markdown",
   "source": [
    "# Print Function"
   ],
   "metadata": {}
  },
  {
   "cell_type": "code",
   "execution_count": null,
   "source": [
    "if __name__ == '__main__':\r\n",
    "    n = int(input())\r\n",
    "    out = \"\"\r\n",
    "    for i in range(1,n+1):\r\n",
    "        out += str(i)\r\n",
    "        \r\n",
    "    print(out)"
   ],
   "outputs": [],
   "metadata": {}
  }
 ],
 "metadata": {
  "orig_nbformat": 4,
  "language_info": {
   "name": "python",
   "version": "3.9.0",
   "mimetype": "text/x-python",
   "codemirror_mode": {
    "name": "ipython",
    "version": 3
   },
   "pygments_lexer": "ipython3",
   "nbconvert_exporter": "python",
   "file_extension": ".py"
  },
  "kernelspec": {
   "name": "python3",
   "display_name": "Python 3.9.0 64-bit"
  },
  "interpreter": {
   "hash": "d961aabb6c4ec2b91ffb92635a21c6aac8ab666950951648c46beeee9d11fafd"
  }
 },
 "nbformat": 4,
 "nbformat_minor": 2
}