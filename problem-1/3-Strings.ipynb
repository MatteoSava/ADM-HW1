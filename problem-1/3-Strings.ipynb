{
 "cells": [
  {
   "cell_type": "markdown",
   "source": [
    "# sWAP cASE"
   ],
   "metadata": {}
  },
  {
   "cell_type": "code",
   "execution_count": null,
   "source": [
    "def swap_case(s):\r\n",
    "    str_out = \"\"\r\n",
    "    for l in s:\r\n",
    "        if l.isupper():\r\n",
    "            str_out += l.lower()\r\n",
    "        else:\r\n",
    "            str_out += l.upper()\r\n",
    "    return str_out\r\n",
    "\r\n",
    "if __name__ == '__main__':\r\n",
    "    s = input()\r\n",
    "    result = swap_case(s)\r\n",
    "    print(result)"
   ],
   "outputs": [],
   "metadata": {}
  },
  {
   "cell_type": "markdown",
   "source": [
    "# String Split and Join"
   ],
   "metadata": {}
  },
  {
   "cell_type": "code",
   "execution_count": null,
   "source": [
    "def split_and_join(line):\r\n",
    "    line_list = line.split(\" \")\r\n",
    "    str_out = \"-\".join(line_list)\r\n",
    "    return str_out\r\n",
    "\r\n",
    "if __name__ == '__main__':\r\n",
    "    line = input()\r\n",
    "    result = split_and_join(line)\r\n",
    "    print(result)"
   ],
   "outputs": [],
   "metadata": {}
  },
  {
   "cell_type": "markdown",
   "source": [
    "# What's Your Name?"
   ],
   "metadata": {}
  },
  {
   "cell_type": "code",
   "execution_count": null,
   "source": [
    "#\r\n",
    "# Complete the 'print_full_name' function below.\r\n",
    "#\r\n",
    "# The function is expected to return a STRING.\r\n",
    "# The function accepts following parameters:\r\n",
    "#  1. STRING first\r\n",
    "#  2. STRING last\r\n",
    "#\r\n",
    "\r\n",
    "def print_full_name(first, last):\r\n",
    "    print(\"Hello \" + first + \" \" + last + \"! You just delved into python.\")\r\n",
    "\r\n",
    "if __name__ == '__main__':\r\n",
    "    first_name = input()\r\n",
    "    last_name = input()\r\n",
    "    print_full_name(first_name, last_name)"
   ],
   "outputs": [],
   "metadata": {}
  },
  {
   "cell_type": "markdown",
   "source": [
    "# Mutations"
   ],
   "metadata": {}
  },
  {
   "cell_type": "code",
   "execution_count": null,
   "source": [
    "def mutate_string(string, position, character):\r\n",
    "    string = string[:position] + character + string[position+1:]\r\n",
    "    return string\r\n",
    "\r\n",
    "if __name__ == '__main__':\r\n",
    "    s = input()\r\n",
    "    i, c = input().split()\r\n",
    "    s_new = mutate_string(s, int(i), c)\r\n",
    "    print(s_new)"
   ],
   "outputs": [],
   "metadata": {}
  },
  {
   "cell_type": "markdown",
   "source": [
    "# Find a string"
   ],
   "metadata": {}
  },
  {
   "cell_type": "code",
   "execution_count": null,
   "source": [
    "def count_substring(string, sub_string):\r\n",
    "    num_str = 0\r\n",
    "    for i in range(0, len(string)):\r\n",
    "        if len(string)-i < len(sub_string):\r\n",
    "            break\r\n",
    "        for j in range(0, len(sub_string)):\r\n",
    "            if string[i+j] != sub_string[j]:\r\n",
    "                break\r\n",
    "            if j == len(sub_string)-1:\r\n",
    "                num_str += 1             \r\n",
    "    return num_str\r\n",
    "\r\n",
    "if __name__ == '__main__':\r\n",
    "    string = input().strip()\r\n",
    "    sub_string = input().strip()\r\n",
    "    \r\n",
    "    count = count_substring(string, sub_string)\r\n",
    "    print(count)"
   ],
   "outputs": [],
   "metadata": {}
  },
  {
   "cell_type": "markdown",
   "source": [
    "# String Validators"
   ],
   "metadata": {}
  },
  {
   "cell_type": "code",
   "execution_count": null,
   "source": [
    "if __name__ == '__main__':\r\n",
    "    s = input()\r\n",
    "    print (any([l.isalnum() for l in s]))\r\n",
    "    print (any([l.isalpha() for l in s]))\r\n",
    "    print (any([l.isdigit() for l in s]))\r\n",
    "    print (any([l.islower() for l in s]))\r\n",
    "    print (any([l.isupper() for l in s]))"
   ],
   "outputs": [],
   "metadata": {}
  },
  {
   "cell_type": "markdown",
   "source": [
    "# Text Alignment"
   ],
   "metadata": {}
  },
  {
   "cell_type": "code",
   "execution_count": null,
   "source": [
    "thickness = int(input()) #This must be an odd number\r\n",
    "c = 'H'\r\n",
    "\r\n",
    "#Top Cone\r\n",
    "for i in range(thickness):\r\n",
    "    print((c*i).rjust(thickness-1)+c+(c*i).ljust(thickness-1))\r\n",
    "\r\n",
    "#Top Pillars\r\n",
    "for i in range(thickness+1):\r\n",
    "    print((c*thickness).center(thickness*2)+(c*thickness).center(thickness*6))\r\n",
    "\r\n",
    "#Middle Belt\r\n",
    "for i in range((thickness+1)//2):\r\n",
    "    print((c*thickness*5).center(thickness*6))    \r\n",
    "\r\n",
    "#Bottom Pillars\r\n",
    "for i in range(thickness+1):\r\n",
    "    print((c*thickness).center(thickness*2)+(c*thickness).center(thickness*6))    \r\n",
    "\r\n",
    "#Bottom Cone\r\n",
    "for i in range(thickness):\r\n",
    "    print(((c*(thickness-i-1)).rjust(thickness)+c+(c*(thickness-i-1)).ljust(thickness)).rjust(thickness*6))"
   ],
   "outputs": [],
   "metadata": {}
  },
  {
   "cell_type": "markdown",
   "source": [
    "# Text Wrap"
   ],
   "metadata": {}
  },
  {
   "cell_type": "code",
   "execution_count": null,
   "source": [
    "import textwrap\r\n",
    "\r\n",
    "def wrap(string, max_width):\r\n",
    "    return textwrap.fill(string, max_width)\r\n",
    "\r\n",
    "if __name__ == '__main__':\r\n",
    "    string, max_width = input(), int(input())\r\n",
    "    result = wrap(string, max_width)\r\n",
    "    print(result)"
   ],
   "outputs": [],
   "metadata": {}
  },
  {
   "cell_type": "markdown",
   "source": [
    "# Designer Door Mat"
   ],
   "metadata": {}
  },
  {
   "cell_type": "code",
   "execution_count": null,
   "source": [
    "input_list = list(map(int, input().split()))\r\n",
    "a = \"-\"\r\n",
    "b = \".|.\"\r\n",
    "for i in range(0, input_list[0]//2):\r\n",
    "    print((b*(1 + 2*i)).center(input_list[1], a))\r\n",
    "\r\n",
    "print(\"WELCOME\".center(input_list[1], a))\r\n",
    "\r\n",
    "for j in range(input_list[0]//2, 0, -1):\r\n",
    "    print((b*(2*j - 1)).center(input_list[1], a))"
   ],
   "outputs": [],
   "metadata": {}
  },
  {
   "cell_type": "markdown",
   "source": [
    "# String Formatting"
   ],
   "metadata": {}
  },
  {
   "cell_type": "code",
   "execution_count": null,
   "source": [
    "def print_formatted(number):\r\n",
    "    width = len(\"{0:b}\".format(n))\r\n",
    "    for i in range(1, number+1):\r\n",
    "        print(\"{0:{width}d} {0:{width}o} {0:{width}X} {0:{width}b}\".format(i, width=width))\r\n",
    "\r\n",
    "if __name__ == '__main__':\r\n",
    "    n = int(input())\r\n",
    "    print_formatted(n)"
   ],
   "outputs": [],
   "metadata": {}
  },
  {
   "cell_type": "markdown",
   "source": [
    "# Alphabet Rangoli"
   ],
   "metadata": {}
  },
  {
   "cell_type": "code",
   "execution_count": null,
   "source": [
    "def print_rangoli(size):\r\n",
    "    alphabet = 'abcdefghijklmnopqrstuvwxyz'\r\n",
    "    out_list = []\r\n",
    "    for i in range(size, 0, -1):\r\n",
    "\r\n",
    "        string = alphabet[i-1:size][::-1] + alphabet[i:size]\r\n",
    "        string = '-'.join(string)\r\n",
    "        string = string.center(size*4-3, \"-\")\r\n",
    "        out_list.append(string)\r\n",
    "        print(string)\r\n",
    "        \r\n",
    "    out_list.reverse()\r\n",
    "    out_list.pop(0)\r\n",
    "    for i in out_list:\r\n",
    "        print(i)\r\n",
    "\r\n",
    "if __name__ == '__main__':\r\n",
    "    n = int(input())\r\n",
    "    print_rangoli(n)"
   ],
   "outputs": [],
   "metadata": {}
  },
  {
   "cell_type": "markdown",
   "source": [
    "# Capitalize!"
   ],
   "metadata": {}
  },
  {
   "cell_type": "code",
   "execution_count": null,
   "source": [
    "def solve(s):\r\n",
    "    s_list = s.split()\r\n",
    "    for i in range(0, len(s_list)):\r\n",
    "        s = s.replace(s_list[i], s_list[i].capitalize(), 1)\r\n",
    "    return s\r\n",
    "\r\n",
    "if __name__ == '__main__':\r\n",
    "    fptr = open(os.environ['OUTPUT_PATH'], 'w')\r\n",
    "\r\n",
    "    s = input()\r\n",
    "\r\n",
    "    result = solve(s)\r\n",
    "\r\n",
    "    fptr.write(result + '\\n')\r\n",
    "\r\n",
    "    fptr.close()\r\n"
   ],
   "outputs": [],
   "metadata": {}
  },
  {
   "cell_type": "markdown",
   "source": [
    "# The Minion Game"
   ],
   "metadata": {}
  },
  {
   "cell_type": "code",
   "execution_count": null,
   "source": [
    "def minion_game(string):\r\n",
    "    vowels = 'AEIOU'\r\n",
    "    stuart_pts = 0\r\n",
    "    kevin_pts = 0\r\n",
    "    str_len = len(string)\r\n",
    "    \r\n",
    "    \r\n",
    "    for i in range(str_len):\r\n",
    "        \r\n",
    "        if string[i] in vowels:\r\n",
    "            kevin_pts += str_len - i\r\n",
    "        else:\r\n",
    "            stuart_pts += str_len - i\r\n",
    "    \r\n",
    "    if stuart_pts == kevin_pts:\r\n",
    "        print(\"Draw\")\r\n",
    "    elif stuart_pts > kevin_pts:\r\n",
    "        print(\"Stuart\", stuart_pts)\r\n",
    "    else:\r\n",
    "        print(\"Kevin\", kevin_pts)\r\n",
    "\r\n",
    "if __name__ == '__main__':\r\n",
    "    s = input()\r\n",
    "    minion_game(s)"
   ],
   "outputs": [],
   "metadata": {}
  },
  {
   "cell_type": "markdown",
   "source": [
    "# Merge the Tools!"
   ],
   "metadata": {}
  },
  {
   "cell_type": "code",
   "execution_count": null,
   "source": [
    "def merge_the_tools(string, k):\r\n",
    "    \r\n",
    "    string_slice_list = []\r\n",
    "    \r\n",
    "    string_slice_out = ''\r\n",
    "    \r\n",
    "    for i in range(0, len(string), k):\r\n",
    "        string_slice = string[i:i+k]\r\n",
    "        string_slice_list.append(string_slice)\r\n",
    "\r\n",
    "    for string_slice in string_slice_list:\r\n",
    "        string_slice_out = ''\r\n",
    "        for letter in string_slice:\r\n",
    "            if letter not in string_slice_out:  \r\n",
    "                string_slice_out += letter\r\n",
    "        print(string_slice_out)\r\n",
    "\r\n",
    "if __name__ == '__main__':\r\n",
    "    string, k = input(), int(input())\r\n",
    "    merge_the_tools(string, k)"
   ],
   "outputs": [],
   "metadata": {}
  }
 ],
 "metadata": {
  "orig_nbformat": 4,
  "language_info": {
   "name": "python"
  }
 },
 "nbformat": 4,
 "nbformat_minor": 2
}