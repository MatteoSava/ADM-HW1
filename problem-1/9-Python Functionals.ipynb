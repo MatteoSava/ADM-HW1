{
 "cells": [
  {
   "cell_type": "markdown",
   "source": [
    "# Map and Lambda Function"
   ],
   "metadata": {}
  },
  {
   "cell_type": "code",
   "execution_count": null,
   "source": [
    "cube = lambda x: pow(x,3)\r\n",
    "\r\n",
    "def fibonacci(n):\r\n",
    "    fibonacci_list = [0, 1]\r\n",
    "    i = 2\r\n",
    "    if n == 0:\r\n",
    "        return []\r\n",
    "    elif n == 1:\r\n",
    "        return [0]\r\n",
    "    while i < n:\r\n",
    "        fibonacci_list.append(fibonacci_list[i-2] + fibonacci_list[i-1])\r\n",
    "        i += 1\r\n",
    "    return fibonacci_list\r\n",
    "\r\n",
    "if __name__ == '__main__':\r\n",
    "    n = int(input())\r\n",
    "    print(list(map(cube, fibonacci(n))))"
   ],
   "outputs": [],
   "metadata": {}
  }
 ],
 "metadata": {
  "orig_nbformat": 4,
  "language_info": {
   "name": "python"
  }
 },
 "nbformat": 4,
 "nbformat_minor": 2
}