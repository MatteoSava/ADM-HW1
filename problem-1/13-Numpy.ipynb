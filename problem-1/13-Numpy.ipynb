{
 "cells": [
  {
   "cell_type": "code",
   "execution_count": null,
   "source": [],
   "outputs": [],
   "metadata": {}
  },
  {
   "cell_type": "markdown",
   "source": [
    "# Arrays"
   ],
   "metadata": {}
  },
  {
   "cell_type": "code",
   "execution_count": null,
   "source": [
    "import numpy\r\n",
    "\r\n",
    "def arrays(arr):\r\n",
    "    a = numpy.array(arr, float)\r\n",
    "    return numpy.flip(a,0)\r\n",
    "    # complete this function\r\n",
    "    # use numpy.array\r\n",
    "\r\n",
    "arr = raw_input().strip().split(' ')\r\n",
    "result = arrays(arr)\r\n",
    "print(result)"
   ],
   "outputs": [],
   "metadata": {}
  },
  {
   "cell_type": "markdown",
   "source": [
    "# Shape and Reshape"
   ],
   "metadata": {}
  },
  {
   "cell_type": "code",
   "execution_count": null,
   "source": [
    "import numpy\r\n",
    "\r\n",
    "arr = numpy.array(list(map(int, input().split(\" \"))))\r\n",
    "a = numpy.reshape(arr, (3,3))\r\n",
    "print(a)"
   ],
   "outputs": [],
   "metadata": {}
  },
  {
   "cell_type": "markdown",
   "source": [
    "# Transpose and Flatten"
   ],
   "metadata": {}
  },
  {
   "cell_type": "code",
   "execution_count": null,
   "source": [
    "import numpy\r\n",
    "\r\n",
    "\r\n",
    "n, m = map(int, input().split())\r\n",
    "vec = numpy.array([list(map(int, input().split())) for i in range(n)])\r\n",
    "\r\n",
    "print (vec.transpose())\r\n",
    "print (vec.flatten())"
   ],
   "outputs": [],
   "metadata": {}
  },
  {
   "cell_type": "markdown",
   "source": [
    "# Concatenate"
   ],
   "metadata": {}
  },
  {
   "cell_type": "code",
   "execution_count": null,
   "source": [
    "import numpy\r\n",
    "\r\n",
    "#read first line\r\n",
    "n, m, p = map(int, input().split())\r\n",
    "\r\n",
    "vecN = numpy.array([list(map(int, input().split())) for i in range(n)])\r\n",
    "vecM = numpy.array([list(map(int, input().split())) for i in range(m)])\r\n",
    "\r\n",
    "#concatenate\r\n",
    "vecOut = numpy.concatenate((vecN, vecM), 0)\r\n",
    "\r\n",
    "print(vecOut)\r\n"
   ],
   "outputs": [],
   "metadata": {}
  },
  {
   "cell_type": "markdown",
   "source": [
    "# Zeros and Ones"
   ],
   "metadata": {}
  },
  {
   "cell_type": "code",
   "execution_count": null,
   "source": [
    "import numpy\r\n",
    "\r\n",
    "\r\n",
    "dim = tuple(map(int, input().split()))\r\n",
    "\r\n",
    "arr_zero = numpy.zeros(dim, dtype = numpy.int)\r\n",
    "arr_ones = numpy.ones(dim, dtype = numpy.int)\r\n",
    "\r\n",
    "\r\n",
    "print (arr_zero)\r\n",
    "print (arr_ones)"
   ],
   "outputs": [],
   "metadata": {}
  },
  {
   "cell_type": "markdown",
   "source": [
    "# Eye and Identity"
   ],
   "metadata": {}
  },
  {
   "cell_type": "code",
   "execution_count": null,
   "source": [
    "import numpy\r\n",
    "\r\n",
    "NM = map(int,input().split())\r\n",
    "result = str(numpy.eye(*NM)).replace('1',' 1').replace('0',' 0')\r\n",
    "\r\n",
    "print(result)"
   ],
   "outputs": [],
   "metadata": {}
  },
  {
   "cell_type": "markdown",
   "source": [
    "# Array Mathematics"
   ],
   "metadata": {}
  },
  {
   "cell_type": "code",
   "execution_count": null,
   "source": [
    "import numpy\r\n",
    "\r\n",
    "NM = list(map(int, input().split()))\r\n",
    "A = numpy.array([list(map(int, input().split())) for i in range(NM[0])], int)\r\n",
    "B = numpy.array([list(map(int, input().split())) for i in range(NM[0])], int)\r\n",
    "\r\n",
    "print(numpy.add(A, B), \r\n",
    "    numpy.subtract(A, B), \r\n",
    "    numpy.multiply(A, B,), \r\n",
    "    numpy.floor_divide(A, B), \r\n",
    "    numpy.mod(A, B), \r\n",
    "    numpy.power(A, B), \r\n",
    "    sep = \"\\n\")"
   ],
   "outputs": [],
   "metadata": {}
  },
  {
   "cell_type": "markdown",
   "source": [
    "# Floor, Ceil and Rint"
   ],
   "metadata": {}
  },
  {
   "cell_type": "code",
   "execution_count": null,
   "source": [
    "import numpy\r\n",
    "\r\n",
    "A = numpy.array(input().split(), dtype=float)\r\n",
    "\r\n",
    "numpy.set_printoptions(sign=' ')\r\n",
    "print(numpy.floor(A))\r\n",
    "print(numpy.ceil(A))\r\n",
    "print(numpy.rint(A))"
   ],
   "outputs": [],
   "metadata": {}
  },
  {
   "cell_type": "markdown",
   "source": [
    "# Sum and Prod"
   ],
   "metadata": {}
  },
  {
   "cell_type": "code",
   "execution_count": null,
   "source": [
    "import numpy\r\n",
    "\r\n",
    "\r\n",
    "NM = list(map(int, input().split()))\r\n",
    "arr = numpy.array([input().split() for _ in range(NM[0])],int)\r\n",
    "\r\n",
    "sum_arr = numpy.sum(arr, axis=0)\r\n",
    "prod_arr = numpy.prod(sum_arr, axis=0) \r\n",
    "\r\n",
    "print(prod_arr)"
   ],
   "outputs": [],
   "metadata": {}
  },
  {
   "cell_type": "markdown",
   "source": [
    "# Min and Max"
   ],
   "metadata": {}
  },
  {
   "cell_type": "code",
   "execution_count": null,
   "source": [
    "import numpy\r\n",
    "\r\n",
    "lst = [input().split() for i in range(int(input().split()[0]))]\r\n",
    "\r\n",
    "arr =  numpy.array(lst,int)\r\n",
    "\r\n",
    "min_arr = numpy.min(arr, axis=1)\r\n",
    "max_arr = numpy.max(min_arr)\r\n",
    "\r\n",
    "print(max_arr)"
   ],
   "outputs": [],
   "metadata": {}
  },
  {
   "cell_type": "markdown",
   "source": [
    "# Mean, Var, and Std"
   ],
   "metadata": {}
  },
  {
   "cell_type": "code",
   "execution_count": null,
   "source": [
    "import numpy\r\n",
    "\r\n",
    "\r\n",
    "NM = list(map(int, input().split()))\r\n",
    "\r\n",
    "lst = []\r\n",
    "for i in range(NM[0]):\r\n",
    "    NM[1] = list(map(int, input().split()))\r\n",
    "    lst.append(NM[1])\r\n",
    "    \r\n",
    "arr = numpy.array(lst)\r\n",
    "\r\n",
    "mean = numpy.mean(arr, axis = 1)\r\n",
    "var = numpy.var(arr, axis = 0)\r\n",
    "std = numpy.std(arr)\r\n",
    "\r\n",
    "rnd = numpy.around(std, 11)\r\n",
    "\r\n",
    "\r\n",
    "print(mean)\r\n",
    "print(var)\r\n",
    "print(rnd)"
   ],
   "outputs": [],
   "metadata": {}
  },
  {
   "cell_type": "markdown",
   "source": [
    "# Dot and Cross"
   ],
   "metadata": {}
  },
  {
   "cell_type": "code",
   "execution_count": null,
   "source": [
    "import numpy\r\n",
    "\r\n",
    "N=int(input())\r\n",
    "\r\n",
    "A_arr = numpy.array([list(map(int,input().split())) for i in range(N)])\r\n",
    "B_arr = numpy.array([list(map(int,input().split())) for i in range(N)])\r\n",
    "    \r\n",
    "print(numpy.dot(A_arr, B_arr))"
   ],
   "outputs": [],
   "metadata": {}
  },
  {
   "cell_type": "markdown",
   "source": [
    "# Inner and Outer"
   ],
   "metadata": {}
  },
  {
   "cell_type": "code",
   "execution_count": null,
   "source": [
    "import numpy\r\n",
    "\r\n",
    "A = numpy.array(input().split(), dtype=int)\r\n",
    "B = numpy.array(input().split(), dtype=int)\r\n",
    "\r\n",
    "print(numpy.inner(A, B))\r\n",
    "print(numpy.outer(A, B))"
   ],
   "outputs": [],
   "metadata": {}
  },
  {
   "cell_type": "markdown",
   "source": [
    "# Polynomials"
   ],
   "metadata": {}
  },
  {
   "cell_type": "code",
   "execution_count": null,
   "source": [
    "import numpy\r\n",
    "\r\n",
    "P_coeff = list(map(float, input().split()))\r\n",
    "\r\n",
    "poly = numpy.polyval(P_coeff, float(input()))\r\n",
    "\r\n",
    "print(poly)"
   ],
   "outputs": [],
   "metadata": {}
  },
  {
   "cell_type": "markdown",
   "source": [
    "# Linear Algebra"
   ],
   "metadata": {}
  },
  {
   "cell_type": "code",
   "execution_count": null,
   "source": [
    "import numpy\r\n",
    "\r\n",
    "N = int(input())\r\n",
    "lst = [list(map(float,input().split())) for i in range(N)]\r\n",
    "\r\n",
    "arr = numpy.array(lst)\r\n",
    "\r\n",
    "det_arr = round(numpy.linalg.det(arr), 2)\r\n",
    "\r\n",
    "print(det_arr)"
   ],
   "outputs": [],
   "metadata": {}
  }
 ],
 "metadata": {
  "orig_nbformat": 4,
  "language_info": {
   "name": "python"
  }
 },
 "nbformat": 4,
 "nbformat_minor": 2
}