{
 "cells": [
  {
   "cell_type": "markdown",
   "source": [
    "# Zipped!"
   ],
   "metadata": {}
  },
  {
   "cell_type": "code",
   "execution_count": null,
   "source": [
    "num = list(map(int, input().split()))\r\n",
    "subjects = []\r\n",
    "\r\n",
    "for i in range(num[1]):\r\n",
    "    subjects.append(list(map(float,input().split())))\r\n",
    "    \r\n",
    "students = zip(*subjects)\r\n",
    "\r\n",
    "for i in students: \r\n",
    "    print(sum(i)/len(i))"
   ],
   "outputs": [],
   "metadata": {}
  },
  {
   "cell_type": "markdown",
   "source": [
    "# Athlete Sort"
   ],
   "metadata": {}
  },
  {
   "cell_type": "code",
   "execution_count": null,
   "source": [
    "#!/bin/python3\r\n",
    "\r\n",
    "import math\r\n",
    "import os\r\n",
    "import random\r\n",
    "import re\r\n",
    "import sys\r\n",
    "from operator import itemgetter\r\n",
    "\r\n",
    "\r\n",
    "\r\n",
    "if __name__ == '__main__':\r\n",
    "    nm = input().split()\r\n",
    "\r\n",
    "    n = int(nm[0])\r\n",
    "\r\n",
    "    m = int(nm[1])\r\n",
    "\r\n",
    "    arr = []\r\n",
    "\r\n",
    "    for _ in range(n):\r\n",
    "        arr.append(list(map(int, input().rstrip().split())))\r\n",
    "\r\n",
    "    k = int(input())\r\n",
    "\r\n",
    "    arr = sorted(arr, key=itemgetter(k))\r\n",
    "    \r\n",
    "    for elem in arr:\r\n",
    "        print(*elem)"
   ],
   "outputs": [],
   "metadata": {}
  },
  {
   "cell_type": "markdown",
   "source": [
    "# ginortS"
   ],
   "metadata": {}
  },
  {
   "cell_type": "code",
   "execution_count": null,
   "source": [
    "S = input()\r\n",
    "uppercase = ''\r\n",
    "lowercase = ''\r\n",
    "odd_digits = ''\r\n",
    "even_digits = ''\r\n",
    "\r\n",
    "for letter in S:\r\n",
    "    if letter.isupper():\r\n",
    "        uppercase += letter\r\n",
    "    if letter.islower():\r\n",
    "        lowercase += letter\r\n",
    "    if letter.isdigit():\r\n",
    "        if int(letter) % 2 == 0:  \r\n",
    "            even_digits += letter\r\n",
    "        else:\r\n",
    "            odd_digits += letter\r\n",
    "    \r\n",
    "lowercase, uppercase, odd_digits, even_digits = sorted(lowercase), sorted(uppercase), sorted(odd_digits), sorted(even_digits)\r\n",
    "\r\n",
    "result = ''.join(map(str, lowercase + uppercase + odd_digits + even_digits))\r\n",
    "\r\n",
    "print(result)"
   ],
   "outputs": [],
   "metadata": {}
  }
 ],
 "metadata": {
  "orig_nbformat": 4,
  "language_info": {
   "name": "python"
  }
 },
 "nbformat": 4,
 "nbformat_minor": 2
}