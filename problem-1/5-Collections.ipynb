{
 "cells": [
  {
   "cell_type": "markdown",
   "source": [
    "# collections.Counter()"
   ],
   "metadata": {}
  },
  {
   "cell_type": "code",
   "execution_count": null,
   "source": [
    "from collections import Counter\r\n",
    "\r\n",
    "shoes_num = int(input())\r\n",
    "shoes_in_shop = Counter(map(int, input().split()))\r\n",
    "customer_num = int(input())\r\n",
    "tot = 0\r\n",
    "\r\n",
    "for i in range(customer_num):\r\n",
    "    shoe = list(map(int, input().split()))\r\n",
    "    if shoes_in_shop[shoe[0]]: \r\n",
    "        tot += shoe[1]\r\n",
    "        shoes_in_shop[shoe[0]] += -1\r\n",
    "\r\n",
    "print(tot)"
   ],
   "outputs": [],
   "metadata": {}
  },
  {
   "cell_type": "markdown",
   "source": [
    "# DefaultDict Tutorial"
   ],
   "metadata": {}
  },
  {
   "cell_type": "code",
   "execution_count": null,
   "source": [
    "from collections import defaultdict\r\n",
    "\r\n",
    "nm = list(map(int, input().split()))\r\n",
    "A_dict = defaultdict(list)\r\n",
    "\r\n",
    "for i in range(0, nm[0]):\r\n",
    "    A_dict[input()].append(str(i+1))\r\n",
    "\r\n",
    "for i in range(nm[1]):\r\n",
    "    string = \" \".join(A_dict[input()])\r\n",
    "    if string:\r\n",
    "        print(string)\r\n",
    "    else:\r\n",
    "        print(-1)"
   ],
   "outputs": [],
   "metadata": {}
  },
  {
   "cell_type": "markdown",
   "source": [
    "# Collections.namedtuple()"
   ],
   "metadata": {}
  },
  {
   "cell_type": "code",
   "execution_count": null,
   "source": [
    "from collections import namedtuple\r\n",
    "\r\n",
    "N = int(input())\r\n",
    "students = namedtuple('Student', input())\r\n",
    "tot = 0\r\n",
    "\r\n",
    "for _ in range(N):\r\n",
    "    data = input().split()\r\n",
    "    Student = students(data[0], data[1], data[2], data[3])\r\n",
    "    tot += int(Student.MARKS)\r\n",
    "    \r\n",
    "print(tot/N)"
   ],
   "outputs": [],
   "metadata": {}
  },
  {
   "cell_type": "markdown",
   "source": [
    "# Collections.OrderedDict()"
   ],
   "metadata": {}
  },
  {
   "cell_type": "code",
   "execution_count": null,
   "source": [
    "from collections import OrderedDict\r\n",
    "\r\n",
    "items_dict = OrderedDict()\r\n",
    "\r\n",
    "N = int(input())\r\n",
    "\r\n",
    "for i in range(N):\r\n",
    "    data = input().rsplit(' ', 1)\r\n",
    "    items_dict[data[0]] = items_dict.get(data[0], 0) + int(data[1])\r\n",
    "    \r\n",
    "for key, value in items_dict.items():\r\n",
    "    print(key, value)"
   ],
   "outputs": [],
   "metadata": {}
  },
  {
   "cell_type": "markdown",
   "source": [
    "# Word Order"
   ],
   "metadata": {}
  },
  {
   "cell_type": "code",
   "execution_count": null,
   "source": [
    "from collections import Counter\r\n",
    "\r\n",
    "n = int(input())\r\n",
    "words_list = []\r\n",
    "\r\n",
    "for i in range(n):\r\n",
    "    words_list.append(input())\r\n",
    "\r\n",
    "counter = Counter(words_list)\r\n",
    "\r\n",
    "print(len(counter))\r\n",
    "print(*counter.values())"
   ],
   "outputs": [],
   "metadata": {}
  },
  {
   "cell_type": "markdown",
   "source": [
    "# Collections.deque()"
   ],
   "metadata": {}
  },
  {
   "cell_type": "code",
   "execution_count": null,
   "source": [
    "from collections import deque\r\n",
    "\r\n",
    "d = deque()\r\n",
    "N = int(input())\r\n",
    "\r\n",
    "for i in range(N):\r\n",
    "    cmd = input().split()\r\n",
    "    if cmd[0] == 'append':\r\n",
    "        d.append(cmd[1])\r\n",
    "    if cmd[0] == 'appendleft':\r\n",
    "        d.appendleft(cmd[1])\r\n",
    "    if cmd[0] == 'pop':\r\n",
    "        d.pop()\r\n",
    "    if cmd[0] == 'popleft':\r\n",
    "        d.popleft()\r\n",
    "        \r\n",
    "print(*d)"
   ],
   "outputs": [],
   "metadata": {}
  },
  {
   "cell_type": "markdown",
   "source": [
    "# Company Logo"
   ],
   "metadata": {}
  },
  {
   "cell_type": "code",
   "execution_count": null,
   "source": [
    "#!/bin/python3\r\n",
    "\r\n",
    "import math\r\n",
    "import os\r\n",
    "import random\r\n",
    "import re\r\n",
    "import sys\r\n",
    "from collections import Counter\r\n",
    "\r\n",
    "\r\n",
    "\r\n",
    "if __name__ == '__main__':\r\n",
    "    s = sorted(input())\r\n",
    "\r\n",
    "    company_name = Counter(s)\r\n",
    "    common_str = company_name.most_common()\r\n",
    "\r\n",
    "    for i in range(3):\r\n",
    "        print(*common_str[i])"
   ],
   "outputs": [],
   "metadata": {}
  },
  {
   "cell_type": "markdown",
   "source": [
    "# Piling Up!"
   ],
   "metadata": {}
  },
  {
   "cell_type": "code",
   "execution_count": null,
   "source": [
    "from collections import deque\r\n",
    "T = int(input())\r\n",
    "\r\n",
    "for i in range(T):\r\n",
    "    len_d = int(input())\r\n",
    "    d_list = list(map(int, input().split()))\r\n",
    "    d = deque(d_list)\r\n",
    "    d_sorted = reversed(sorted(d))\r\n",
    "    \r\n",
    "    \r\n",
    "    for j in d_sorted:\r\n",
    "        if d[-1] == j: \r\n",
    "            d.pop()\r\n",
    "        elif d[0] == j: \r\n",
    "            d.popleft()\r\n",
    "        else:\r\n",
    "            print('No')\r\n",
    "            break\r\n",
    "    else: \r\n",
    "        print('Yes')"
   ],
   "outputs": [],
   "metadata": {}
  }
 ],
 "metadata": {
  "orig_nbformat": 4,
  "language_info": {
   "name": "python"
  }
 },
 "nbformat": 4,
 "nbformat_minor": 2
}