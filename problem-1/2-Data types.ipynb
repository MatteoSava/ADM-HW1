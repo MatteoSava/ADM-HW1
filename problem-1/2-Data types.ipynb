{
 "cells": [
  {
   "cell_type": "markdown",
   "source": [
    "# List Comprehensions"
   ],
   "metadata": {}
  },
  {
   "cell_type": "code",
   "execution_count": null,
   "source": [
    "if __name__ == '__main__':\r\n",
    "    x = int(input())\r\n",
    "    y = int(input())\r\n",
    "    z = int(input())\r\n",
    "    n = int(input())\r\n",
    "    out = [[i,j,k] for i in range(0,x+1) for j in range(0,y+1) for k in range(0,z+1) if i+j+k != n]\r\n",
    "    print(out)"
   ],
   "outputs": [],
   "metadata": {}
  },
  {
   "cell_type": "markdown",
   "source": [
    "# Find the Runner-Up Score!"
   ],
   "metadata": {}
  },
  {
   "cell_type": "code",
   "execution_count": null,
   "source": [
    "if __name__ == '__main__':\r\n",
    "    n = int(input())\r\n",
    "    arr = map(int, input().split())\r\n",
    "    runner_up = -100\r\n",
    "    top_score = -100\r\n",
    "    #print(list(arr))\r\n",
    "    for i in arr:\r\n",
    "        if i>top_score:\r\n",
    "            runner_up = top_score\r\n",
    "            top_score = i\r\n",
    "        if i<top_score and i>runner_up:\r\n",
    "            runner_up = i\r\n",
    "            \r\n",
    "    print(runner_up)"
   ],
   "outputs": [],
   "metadata": {}
  },
  {
   "cell_type": "markdown",
   "source": [
    "# Nested Lists"
   ],
   "metadata": {}
  },
  {
   "cell_type": "code",
   "execution_count": null,
   "source": [
    "from operator import itemgetter\r\n",
    "if __name__ == '__main__':\r\n",
    "    \r\n",
    "    grade_list = []\r\n",
    "    lowest_score = 0\r\n",
    "    second_lowest_score = 0\r\n",
    "    \r\n",
    "    for _ in range(int(input())):\r\n",
    "        name = input()\r\n",
    "        score = float(input())\r\n",
    "        grade_list.append([name, score])\r\n",
    "        \r\n",
    "    grade_list = sorted(grade_list, key=itemgetter(1))\r\n",
    "    lowest_score = grade_list[0][1]\r\n",
    "    \r\n",
    "    for student in grade_list:\r\n",
    "        if student[1] > lowest_score:\r\n",
    "            second_lowest_score = student[1]\r\n",
    "            break\r\n",
    "            \r\n",
    "    second_lowest_list = sorted([i for i in grade_list if i[1]==second_lowest_score])\r\n",
    "    \r\n",
    "    for student in second_lowest_list:\r\n",
    "        print(student[0])"
   ],
   "outputs": [],
   "metadata": {}
  },
  {
   "cell_type": "markdown",
   "source": [
    "# Finding the percentage"
   ],
   "metadata": {}
  },
  {
   "cell_type": "code",
   "execution_count": null,
   "source": [
    "if __name__ == '__main__':\r\n",
    "    n = int(raw_input())\r\n",
    "    student_marks = {}\r\n",
    "    for _ in range(n):\r\n",
    "        line = raw_input().split()\r\n",
    "        name, scores = line[0], line[1:]\r\n",
    "        scores = map(float, scores)\r\n",
    "        student_marks[name] = scores\r\n",
    "    query_name = raw_input()\r\n",
    "    \r\n",
    "    selected_student_marks = student_marks[query_name]\r\n",
    "    selected_student_average = sum(selected_student_marks)/len(selected_student_marks)\r\n",
    "        \r\n",
    "    print(format(selected_student_average, '.2f'))"
   ],
   "outputs": [],
   "metadata": {}
  },
  {
   "cell_type": "markdown",
   "source": [
    "# Lists"
   ],
   "metadata": {}
  },
  {
   "cell_type": "code",
   "execution_count": null,
   "source": [
    "if __name__ == '__main__':\r\n",
    "    N = int(input())\r\n",
    "    result_list = []\r\n",
    "    for i in range(N):\r\n",
    "        cmd = input().split()\r\n",
    "        if cmd[0] == \"insert\":\r\n",
    "            result_list.insert(int(cmd[1]), int(cmd[2]))\r\n",
    "        elif cmd [0] == \"print\":\r\n",
    "            print(result_list)\r\n",
    "        elif cmd[0] == \"remove\":\r\n",
    "            result_list.remove(int(cmd[1]))\r\n",
    "        elif cmd[0] == \"append\":\r\n",
    "            result_list.append(int(cmd[1]))\r\n",
    "        elif cmd[0] == \"sort\":\r\n",
    "            result_list.sort()\r\n",
    "        elif cmd[0] == \"pop\":\r\n",
    "            result_list.pop()\r\n",
    "        elif cmd[0] == \"reverse\":\r\n",
    "            result_list.reverse()"
   ],
   "outputs": [],
   "metadata": {}
  },
  {
   "cell_type": "markdown",
   "source": [
    "# Tuples"
   ],
   "metadata": {}
  },
  {
   "cell_type": "code",
   "execution_count": null,
   "source": [
    "if __name__ == '__main__':\r\n",
    "    n = int(raw_input())\r\n",
    "    integer_list = map(int, raw_input().split())\r\n",
    "    tuple_list = tuple(integer_list)\r\n",
    "    print(hash(tuple_list))"
   ],
   "outputs": [],
   "metadata": {}
  }
 ],
 "metadata": {
  "orig_nbformat": 4,
  "language_info": {
   "name": "python",
   "version": "3.9.0"
  },
  "kernelspec": {
   "name": "python3",
   "display_name": "Python 3.9.0 64-bit"
  },
  "interpreter": {
   "hash": "d961aabb6c4ec2b91ffb92635a21c6aac8ab666950951648c46beeee9d11fafd"
  }
 },
 "nbformat": 4,
 "nbformat_minor": 2
}