{
 "cells": [
  {
   "cell_type": "markdown",
   "source": [
    "# Standardize Mobile Number Using Decorators"
   ],
   "metadata": {}
  },
  {
   "cell_type": "code",
   "execution_count": null,
   "source": [
    "def wrapper(f):\r\n",
    "    def fun(l):\r\n",
    "        tel_list = []\r\n",
    "        for tel_num in l:\r\n",
    "            tel_list.append(\"+91 \"+tel_num[-10:-5]+\" \"+tel_num[-5:])\r\n",
    "        f(tel_list)\r\n",
    "    return fun\r\n",
    "\r\n",
    "@wrapper\r\n",
    "def sort_phone(l):\r\n",
    "    print(*sorted(l), sep='\\n')\r\n",
    "\r\n",
    "if __name__ == '__main__':\r\n",
    "    l = [input() for _ in range(int(input()))]\r\n",
    "    sort_phone(l) "
   ],
   "outputs": [],
   "metadata": {}
  },
  {
   "cell_type": "markdown",
   "source": [
    "# Decorators 2 - Name Directory"
   ],
   "metadata": {}
  },
  {
   "cell_type": "code",
   "execution_count": null,
   "source": [
    "import operator\r\n",
    "from operator import itemgetter\r\n",
    "\r\n",
    "#x.sort(key=itemgetter(1))\r\n",
    "\r\n",
    "def person_lister(f):\r\n",
    "    def inner(people):\r\n",
    "        test = []\r\n",
    "        for person in people:\r\n",
    "            person[2] = int(person[2])\r\n",
    "        people.sort(key=itemgetter(2))\r\n",
    "        return [f(person) for person in people]\r\n",
    "    return inner\r\n",
    "\r\n",
    "@person_lister\r\n",
    "def name_format(person):\r\n",
    "    return (\"Mr. \" if person[3] == \"M\" else \"Ms. \") + person[0] + \" \" + person[1]\r\n",
    "\r\n",
    "if __name__ == '__main__':\r\n",
    "    people = [input().split() for i in range(int(input()))]\r\n",
    "    print(*name_format(people), sep='\\n')"
   ],
   "outputs": [],
   "metadata": {}
  }
 ],
 "metadata": {
  "orig_nbformat": 4,
  "language_info": {
   "name": "python"
  }
 },
 "nbformat": 4,
 "nbformat_minor": 2
}