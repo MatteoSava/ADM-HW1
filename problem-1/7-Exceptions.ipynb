{
 "cells": [
  {
   "cell_type": "markdown",
   "source": [
    "# Exceptions"
   ],
   "metadata": {}
  },
  {
   "cell_type": "code",
   "execution_count": null,
   "source": [
    "N = int(input())\r\n",
    "\r\n",
    "for i in range(N):\r\n",
    "    try:\r\n",
    "        num_list = input().split()\r\n",
    "        print(int(num_list[0]) // int(num_list[1]))\r\n",
    "        \r\n",
    "    except Exception as e:\r\n",
    "        print(\"Error Code:\", e)\r\n"
   ],
   "outputs": [],
   "metadata": {}
  }
 ],
 "metadata": {
  "orig_nbformat": 4,
  "language_info": {
   "name": "python"
  }
 },
 "nbformat": 4,
 "nbformat_minor": 2
}