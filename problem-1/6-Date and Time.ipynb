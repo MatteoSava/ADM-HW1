{
 "cells": [
  {
   "cell_type": "markdown",
   "source": [
    "# Calendar Module"
   ],
   "metadata": {}
  },
  {
   "cell_type": "code",
   "execution_count": null,
   "source": [
    "import calendar\r\n",
    "\r\n",
    "date = list(map(int, input().split()))\r\n",
    "weekday = calendar.weekday(date[2], date[0], date[1])\r\n",
    "day_name = calendar.day_name[weekday]\r\n",
    "print(day_name.upper())"
   ],
   "outputs": [],
   "metadata": {}
  },
  {
   "cell_type": "markdown",
   "source": [
    "# Time Delta"
   ],
   "metadata": {}
  },
  {
   "cell_type": "code",
   "execution_count": null,
   "source": [
    "#!/bin/python3\r\n",
    "\r\n",
    "import math\r\n",
    "import os\r\n",
    "import random\r\n",
    "import re\r\n",
    "import sys\r\n",
    "\r\n",
    "from datetime import datetime, timedelta\r\n",
    "# Complete the time_delta function below.\r\n",
    "def time_delta(t1, t2):\r\n",
    "    date_str = \"%a %d %b %Y %H:%M:%S %z\"\r\n",
    "    date_t1 = datetime.strptime(t1, date_str)\r\n",
    "    date_t2 = datetime.strptime(t2, date_str)\r\n",
    "    date_delta = abs(date_t1-date_t2).total_seconds()\r\n",
    "    \r\n",
    "    return str(int(date_delta))\r\n",
    "\r\n",
    "if __name__ == '__main__':\r\n",
    "    fptr = open(os.environ['OUTPUT_PATH'], 'w')\r\n",
    "\r\n",
    "    t = int(input())\r\n",
    "\r\n",
    "    for t_itr in range(t):\r\n",
    "        t1 = input()\r\n",
    "\r\n",
    "        t2 = input()\r\n",
    "\r\n",
    "        delta = time_delta(t1, t2)\r\n",
    "\r\n",
    "        fptr.write(delta + '\\n')\r\n",
    "\r\n",
    "    fptr.close()\r\n"
   ],
   "outputs": [],
   "metadata": {}
  }
 ],
 "metadata": {
  "orig_nbformat": 4,
  "language_info": {
   "name": "python"
  }
 },
 "nbformat": 4,
 "nbformat_minor": 2
}