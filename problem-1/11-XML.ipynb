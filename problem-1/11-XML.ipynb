{
 "cells": [
  {
   "cell_type": "markdown",
   "source": [
    "# XML 1 - Find the Score"
   ],
   "metadata": {}
  },
  {
   "cell_type": "code",
   "execution_count": null,
   "source": [
    "import sys\r\n",
    "import xml.etree.ElementTree as etree\r\n",
    "\r\n",
    "def get_attr_number(node):\r\n",
    "    attr_tot = 0\r\n",
    "    for i in node.iter():\r\n",
    "        attr_tot += len(i.items())\r\n",
    "    return attr_tot\r\n",
    "\r\n",
    "if __name__ == '__main__':\r\n",
    "    sys.stdin.readline()\r\n",
    "    xml = sys.stdin.read()\r\n",
    "    tree = etree.ElementTree(etree.fromstring(xml))\r\n",
    "    root = tree.getroot()\r\n",
    "    print(get_attr_number(root))"
   ],
   "outputs": [],
   "metadata": {}
  },
  {
   "cell_type": "markdown",
   "source": [
    "# XML2 - Find the Maximum Depth"
   ],
   "metadata": {}
  },
  {
   "cell_type": "code",
   "execution_count": null,
   "source": [
    "import xml.etree.ElementTree as etree\r\n",
    "\r\n",
    "maxdepth = 0\r\n",
    "def depth(elem, level):\r\n",
    "    global maxdepth\r\n",
    "    level += 1\r\n",
    "    if level >= maxdepth:\r\n",
    "        maxdepth = level\r\n",
    "    for node in elem:\r\n",
    "        depth(node, level)\r\n",
    "\r\n",
    "if __name__ == '__main__':\r\n",
    "    n = int(input())\r\n",
    "    xml = \"\"\r\n",
    "    for i in range(n):\r\n",
    "        xml =  xml + input() + \"\\n\"\r\n",
    "    tree = etree.ElementTree(etree.fromstring(xml))\r\n",
    "    depth(tree.getroot(), -1)\r\n",
    "    print(maxdepth)"
   ],
   "outputs": [],
   "metadata": {}
  }
 ],
 "metadata": {
  "orig_nbformat": 4,
  "language_info": {
   "name": "python"
  }
 },
 "nbformat": 4,
 "nbformat_minor": 2
}