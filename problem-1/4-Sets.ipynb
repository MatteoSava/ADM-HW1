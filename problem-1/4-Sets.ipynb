{
 "cells": [
  {
   "cell_type": "markdown",
   "source": [
    "# Introduction to Sets"
   ],
   "metadata": {}
  },
  {
   "cell_type": "code",
   "execution_count": null,
   "source": [
    "def average(array):\r\n",
    "    return sum(set(array))/len(set(array))\r\n",
    "\r\n",
    "if __name__ == '__main__':\r\n",
    "    n = int(input())\r\n",
    "    arr = list(map(int, input().split()))\r\n",
    "    result = average(arr)\r\n",
    "    print(result)"
   ],
   "outputs": [],
   "metadata": {}
  },
  {
   "cell_type": "markdown",
   "source": [
    "# No Idea!"
   ],
   "metadata": {}
  },
  {
   "cell_type": "code",
   "execution_count": null,
   "source": [
    "nm = list(map(int, input().split()))\r\n",
    "n_int = list(map(int, input().split()))\r\n",
    "A_set = set(map(int, input().split()))\r\n",
    "B_set = set(map(int, input().split()))\r\n",
    "happyness = 0\r\n",
    "\r\n",
    "for i in n_int:\r\n",
    "    if i in A_set:\r\n",
    "        happyness += 1\r\n",
    "    if i in B_set:\r\n",
    "        happyness += -1\r\n",
    "\r\n",
    "print(happyness)"
   ],
   "outputs": [],
   "metadata": {}
  },
  {
   "cell_type": "markdown",
   "source": [
    "# Symmetric Difference"
   ],
   "metadata": {}
  },
  {
   "cell_type": "code",
   "execution_count": null,
   "source": [
    "M = input()\r\n",
    "M_set = set(input().split())\r\n",
    "N = input()\r\n",
    "N_set = set(input().split())\r\n",
    "\r\n",
    "M_diff = M_set.difference(N_set)\r\n",
    "N_diff = N_set.difference(M_set)\r\n",
    "simm_diff = sorted(M_diff.union(N_diff), key=int)\r\n",
    "\r\n",
    "for i in simm_diff:\r\n",
    "    print(i)"
   ],
   "outputs": [],
   "metadata": {}
  },
  {
   "cell_type": "markdown",
   "source": [
    "# Set .add()"
   ],
   "metadata": {}
  },
  {
   "cell_type": "code",
   "execution_count": null,
   "source": [
    "n_set = set()\r\n",
    "\r\n",
    "for i in range(int(input())):\r\n",
    "    n_set.add(input())\r\n",
    "\r\n",
    "print(len(n_set))"
   ],
   "outputs": [],
   "metadata": {}
  },
  {
   "cell_type": "markdown",
   "source": [
    "# Set .discard(), .remove() & .pop()"
   ],
   "metadata": {}
  },
  {
   "cell_type": "code",
   "execution_count": null,
   "source": [
    "n = int(input())\r\n",
    "s = set(map(int, input().split()))\r\n",
    "cmd_num = int(input())\r\n",
    "\r\n",
    "for i in range(cmd_num):\r\n",
    "    \r\n",
    "    cmd = list(input().split())\r\n",
    "    if cmd[0] == 'discard':\r\n",
    "        s.discard(int(cmd[1]))\r\n",
    "    if cmd[0] == 'remove':\r\n",
    "        s.remove(int(cmd[1]))\r\n",
    "    if cmd[0] == 'pop':\r\n",
    "        s.pop()\r\n",
    "        \r\n",
    "print(sum(s))"
   ],
   "outputs": [],
   "metadata": {}
  },
  {
   "cell_type": "markdown",
   "source": [
    "# Set .union() Operation"
   ],
   "metadata": {}
  },
  {
   "cell_type": "code",
   "execution_count": null,
   "source": [
    "n = input()\r\n",
    "n_set = set(map(int, input().split()))\r\n",
    "b = input()\r\n",
    "b_set = set(map(int, input().split()))\r\n",
    "\r\n",
    "print(len(n_set.union(b_set)))"
   ],
   "outputs": [],
   "metadata": {}
  },
  {
   "cell_type": "markdown",
   "source": [
    "# Set .intersection() Operation"
   ],
   "metadata": {}
  },
  {
   "cell_type": "code",
   "execution_count": null,
   "source": [
    "n = input()\r\n",
    "n_set = set(input().split())\r\n",
    "b = input()\r\n",
    "b_set = set(input().split())\r\n",
    "\r\n",
    "print(len(n_set.intersection(b_set)))"
   ],
   "outputs": [],
   "metadata": {}
  },
  {
   "cell_type": "markdown",
   "source": [
    "# Set .difference() Operation"
   ],
   "metadata": {}
  },
  {
   "cell_type": "code",
   "execution_count": null,
   "source": [
    "n = input()\r\n",
    "n_set = set(input().split())\r\n",
    "b = input()\r\n",
    "b_set = set(input().split())\r\n",
    "\r\n",
    "print(len(n_set.difference(b_set)))"
   ],
   "outputs": [],
   "metadata": {}
  },
  {
   "cell_type": "markdown",
   "source": [
    "# Set .symmetric_difference() Operation"
   ],
   "metadata": {}
  },
  {
   "cell_type": "code",
   "execution_count": null,
   "source": [
    "n = input()\r\n",
    "n_set = set(input().split())\r\n",
    "b = input()\r\n",
    "b_set = set(input().split())\r\n",
    "\r\n",
    "print(len(n_set.symmetric_difference(b_set)))"
   ],
   "outputs": [],
   "metadata": {}
  },
  {
   "cell_type": "markdown",
   "source": [
    "# Set Mutations"
   ],
   "metadata": {}
  },
  {
   "cell_type": "code",
   "execution_count": null,
   "source": [
    "n = int(input())\r\n",
    "s = set(map(int, input().split()))\r\n",
    "cmd_num = int(input())\r\n",
    "\r\n",
    "for i in range(cmd_num):\r\n",
    "    \r\n",
    "    tmp_cmd = list(input().split())\r\n",
    "    tmp_set = set(map(int, input().split()))\r\n",
    "    \r\n",
    "    if(tmp_cmd[0] == \"intersection_update\"):\r\n",
    "        s.intersection_update(tmp_set)\r\n",
    "    elif(tmp_cmd[0] == \"update\"):\r\n",
    "        s.update(tmp_set)\r\n",
    "    elif(tmp_cmd[0] == \"symmetric_difference_update\"):\r\n",
    "        s.symmetric_difference_update(tmp_set)\r\n",
    "    elif(tmp_cmd[0] == \"difference_update\"):\r\n",
    "        s.difference_update(tmp_set)\r\n",
    "\r\n",
    "print(sum(s))"
   ],
   "outputs": [],
   "metadata": {}
  },
  {
   "cell_type": "markdown",
   "source": [
    "# The Captain's Room"
   ],
   "metadata": {}
  },
  {
   "cell_type": "code",
   "execution_count": null,
   "source": [
    "K = int(input())\r\n",
    "rooms = sorted(input().split())\r\n",
    "rooms.append([-1,-1,-1,-1]) #adds padding\r\n",
    "i = 0\r\n",
    "\r\n",
    "while i <= len(rooms):\r\n",
    "    if rooms[i] == rooms[i+1]:\r\n",
    "        i += K\r\n",
    "    else:\r\n",
    "        print(rooms[i])\r\n",
    "        break"
   ],
   "outputs": [],
   "metadata": {}
  },
  {
   "cell_type": "markdown",
   "source": [
    "# Check Subset"
   ],
   "metadata": {}
  },
  {
   "cell_type": "code",
   "execution_count": null,
   "source": [
    "T = int(input())\r\n",
    "\r\n",
    "for i in range(T):\r\n",
    "    A = int(input())\r\n",
    "    A_set = set(map(int, input().split()))\r\n",
    "    B = int(input())\r\n",
    "    B_set = set(map(int, input().split()))\r\n",
    "    print(bool(A_set.issubset(B_set)))"
   ],
   "outputs": [],
   "metadata": {}
  },
  {
   "cell_type": "markdown",
   "source": [
    "# Check Strict Superset"
   ],
   "metadata": {}
  },
  {
   "cell_type": "code",
   "execution_count": null,
   "source": [
    "A_set = set(map(int, input().split()))\r\n",
    "n = int(input())\r\n",
    "is_superset = True\r\n",
    "\r\n",
    "for i in range(n):\r\n",
    "    B_set = set(map(int, input().split()))\r\n",
    "    if bool(A_set.issuperset(B_set)) == False:\r\n",
    "        is_superset = False\r\n",
    "        break\r\n",
    "print(is_superset)"
   ],
   "outputs": [],
   "metadata": {}
  }
 ],
 "metadata": {
  "orig_nbformat": 4,
  "language_info": {
   "name": "python",
   "version": "3.9.0"
  },
  "kernelspec": {
   "name": "python3",
   "display_name": "Python 3.9.0 64-bit"
  },
  "interpreter": {
   "hash": "d961aabb6c4ec2b91ffb92635a21c6aac8ab666950951648c46beeee9d11fafd"
  }
 },
 "nbformat": 4,
 "nbformat_minor": 2
}