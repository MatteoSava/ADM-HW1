{
 "cells": [
  {
   "cell_type": "markdown",
   "source": [
    "# Detect Floating Point Number"
   ],
   "metadata": {}
  },
  {
   "cell_type": "code",
   "execution_count": null,
   "source": [
    "import re\r\n",
    "\r\n",
    "T = int(input())\r\n",
    "\r\n",
    "for _ in range(T):\r\n",
    "    input_data = input()\r\n",
    "    result = re.match(r'^[-+]?[0-9]*\\.[0-9]+$', input_data)\r\n",
    "    print(bool(result))"
   ],
   "outputs": [],
   "metadata": {}
  },
  {
   "cell_type": "markdown",
   "source": [
    "# Re.split()"
   ],
   "metadata": {}
  },
  {
   "cell_type": "code",
   "execution_count": null,
   "source": [
    "regex_pattern = r\"[,.]+\"    # Do not delete 'r'.\r\n",
    "\r\n",
    "import re\r\n",
    "print(\"\\n\".join(re.split(regex_pattern, input())))"
   ],
   "outputs": [],
   "metadata": {}
  },
  {
   "cell_type": "markdown",
   "source": [
    "# Group(), Groups() & Groupdict()"
   ],
   "metadata": {}
  },
  {
   "cell_type": "code",
   "execution_count": null,
   "source": [
    "import re\r\n",
    "data = input().strip()\r\n",
    "regex = re.search(r'([0-9A-Za-z])\\1+', data)\r\n",
    "print(regex.group(1) if regex else -1)"
   ],
   "outputs": [],
   "metadata": {}
  },
  {
   "cell_type": "markdown",
   "source": [
    "# Re.findall() & Re.finditer()"
   ],
   "metadata": {}
  },
  {
   "cell_type": "code",
   "execution_count": null,
   "source": [
    "import re\r\n",
    "\r\n",
    "pattern = r'(?<=[^aeiouAEIOU])([aeiouAEIOU]{2,})(?=[^aeiouAEIOU])'\r\n",
    "string = input()\r\n",
    "\r\n",
    "match = re.findall(pattern, string)\r\n",
    "if not match:\r\n",
    "    print(-1)\r\n",
    "for i in match:\r\n",
    "    print(i)"
   ],
   "outputs": [],
   "metadata": {}
  },
  {
   "cell_type": "markdown",
   "source": [
    "# Re.start() & Re.end()"
   ],
   "metadata": {}
  },
  {
   "cell_type": "code",
   "execution_count": null,
   "source": [
    "import re\r\n",
    "\r\n",
    "S = input()\r\n",
    "k = input()\r\n",
    "\r\n",
    "pattern = re.compile(k)\r\n",
    "pattern_search = pattern.search(S)\r\n",
    "\r\n",
    "if bool(pattern_search) == False: \r\n",
    "    print (\"(-1, -1)\")\r\n",
    "    \r\n",
    "while pattern_search:\r\n",
    "    print(\"({0}, {1})\".format(pattern_search.start(), pattern_search.end() - 1))\r\n",
    "    pattern_search = pattern.search(S, pattern_search.start() + 1)\r\n"
   ],
   "outputs": [],
   "metadata": {}
  },
  {
   "cell_type": "markdown",
   "source": [
    "# Regex Substitution"
   ],
   "metadata": {}
  },
  {
   "cell_type": "code",
   "execution_count": null,
   "source": [
    "import re\r\n",
    "\r\n",
    "N = int(input())\r\n",
    "pattern = r'(?<= )(&&|\\|\\|)(?= )'\r\n",
    "\r\n",
    "def match_and_or(match):\r\n",
    "    group = match.group()\r\n",
    "    if group == '&&':\r\n",
    "        return 'and'\r\n",
    "    elif group == '||':\r\n",
    "        return 'or'\r\n",
    "    \r\n",
    "\r\n",
    "\r\n",
    "for i in range(N):\r\n",
    "    print(re.sub(pattern, match_and_or, input()))"
   ],
   "outputs": [],
   "metadata": {}
  },
  {
   "cell_type": "markdown",
   "source": [
    "# Validating Roman Numerals"
   ],
   "metadata": {}
  },
  {
   "cell_type": "code",
   "execution_count": null,
   "source": [
    "regex_pattern = r\"^M{0,3}(CM|CD|D?C{0,3})(XC|XL|L?X{0,3})(IX|IV|V?I{0,3})$\"\r\n",
    "\r\n",
    "import re\r\n",
    "print(str(bool(re.match(regex_pattern, input()))))"
   ],
   "outputs": [],
   "metadata": {}
  },
  {
   "cell_type": "markdown",
   "source": [
    "# Validating phone numbers"
   ],
   "metadata": {}
  },
  {
   "cell_type": "code",
   "execution_count": null,
   "source": [
    "import re\r\n",
    "pattern = r'^[789]\\d{9}$'\r\n",
    "\r\n",
    "N = int(input())\r\n",
    "\r\n",
    "for i in range(N):\r\n",
    "    \r\n",
    "    tel = str(input())\r\n",
    "    match = re.findall(pattern, tel)\r\n",
    "    \r\n",
    "    if match:\r\n",
    "        print(\"YES\")\r\n",
    "    else:\r\n",
    "        print(\"NO\")"
   ],
   "outputs": [],
   "metadata": {}
  },
  {
   "cell_type": "markdown",
   "source": [
    "# Validating and Parsing Email Addresses"
   ],
   "metadata": {}
  },
  {
   "cell_type": "code",
   "execution_count": null,
   "source": [
    "import re\r\n",
    "pattern = r'(<)([A-Za-z0-9])([\\w\\-\\_\\.])+(@)[A-Za-z]+(\\.)[A-Za-z]{1,3}(>)'\r\n",
    "\r\n",
    "n = int(input())\r\n",
    "\r\n",
    "for i in range(n):\r\n",
    "    \r\n",
    "    email = list(map(str,input().split()))\r\n",
    "    match = re.match(pattern, email[1])\r\n",
    "    \r\n",
    "    if match:\r\n",
    "        print(email[0], email[1])"
   ],
   "outputs": [],
   "metadata": {}
  },
  {
   "cell_type": "markdown",
   "source": [
    "# Hex Color Code"
   ],
   "metadata": {}
  },
  {
   "cell_type": "code",
   "execution_count": null,
   "source": [
    "import re\r\n",
    "pattern = r':?.(#[A-Fa-f0-9]{6}|#[A-Fa-f0-9]{3})'\r\n",
    "\r\n",
    "n = int(input())\r\n",
    "\r\n",
    "for i in range(n):\r\n",
    "    \r\n",
    "    color = str(input())\r\n",
    "    match = re.findall(pattern, color)\r\n",
    "    \r\n",
    "    if match:\r\n",
    "        print(\"\\n\".join(match))"
   ],
   "outputs": [],
   "metadata": {}
  },
  {
   "cell_type": "markdown",
   "source": [
    "# HTML Parser - Part 1"
   ],
   "metadata": {}
  },
  {
   "cell_type": "code",
   "execution_count": null,
   "source": [
    "from html.parser import HTMLParser\r\n",
    "\r\n",
    "# create a subclass and override the handler methods\r\n",
    "class MyHTMLParser(HTMLParser):\r\n",
    "    def handle_starttag(self, tag, attrs):        \r\n",
    "        print ('Start :', tag)\r\n",
    "        for i in attrs:\r\n",
    "            print ('->', i[0], '>' , i[1])\r\n",
    "    def handle_endtag(self, tag):\r\n",
    "        print ('End   :', tag) \r\n",
    "    def handle_startendtag(self, tag, attrs):\r\n",
    "        print ('Empty :', tag)\r\n",
    "        for i in attrs:\r\n",
    "            print ('->', i[0], '>', i[1])\r\n",
    "\r\n",
    "# instantiate the parser and fed it some HTML\r\n",
    "parser = MyHTMLParser()\r\n",
    "parser.feed(''.join([input().strip() for _ in range(int(input()))]))"
   ],
   "outputs": [],
   "metadata": {}
  },
  {
   "cell_type": "markdown",
   "source": [
    "# HTML Parser - Part 2"
   ],
   "metadata": {}
  },
  {
   "cell_type": "code",
   "execution_count": null,
   "source": [
    "from html.parser import HTMLParser\r\n",
    "\r\n",
    "class MyHTMLParser(HTMLParser):\r\n",
    "    def handle_comment(self, data):\r\n",
    "        if len(data.split('\\n')) > 1:\r\n",
    "            print('>>> Multi-line Comment')\r\n",
    "        else:\r\n",
    "            print('>>> Single-line Comment')\r\n",
    "        if data.strip():\r\n",
    "            print(data)\r\n",
    "    def handle_data(self, data):\r\n",
    "        if data.strip():\r\n",
    "            print(\">>> Data\")\r\n",
    "            print(data)\r\n",
    "  \r\n",
    "html = \"\"       \r\n",
    "for i in range(int(input())):\r\n",
    "    html += input().rstrip()\r\n",
    "    html += '\\n'\r\n",
    "    \r\n",
    "parser = MyHTMLParser()\r\n",
    "parser.feed(html)\r\n",
    "parser.close()"
   ],
   "outputs": [],
   "metadata": {}
  },
  {
   "cell_type": "markdown",
   "source": [
    "# Detect HTML Tags, Attributes and Attribute Values"
   ],
   "metadata": {}
  },
  {
   "cell_type": "code",
   "execution_count": null,
   "source": [
    "from html.parser import HTMLParser\r\n",
    "\r\n",
    "class MyHTMLParser(HTMLParser):\r\n",
    "    def handle_starttag(self, tag, attrs):        \r\n",
    "        print(tag)\r\n",
    "        for i in attrs:\r\n",
    "            print('-> {} > {}'.format(*i))\r\n",
    "\r\n",
    "parser = MyHTMLParser()\r\n",
    "parser.feed(''.join([input().strip() for _ in range(int(input()))]))"
   ],
   "outputs": [],
   "metadata": {}
  },
  {
   "cell_type": "markdown",
   "source": [
    "# Validating UID"
   ],
   "metadata": {}
  },
  {
   "cell_type": "code",
   "execution_count": null,
   "source": [
    "import re\r\n",
    "\r\n",
    "repeat_char = r'(?!.*(.).*\\1)'\r\n",
    "uppercase = r'(?=(?:.*[A-Z]){2,})'\r\n",
    "digit = r'(?=(?:.*[0-9]){3,})' #3\r\n",
    "alphanumeric = r'[a-zA-Z0-9]{10}'\r\n",
    "\r\n",
    "\r\n",
    "pattern = r'^' + repeat_char + uppercase + digit + alphanumeric + r'$'\r\n",
    "\r\n",
    "N = int(input())\r\n",
    "\r\n",
    "for i in range(N):\r\n",
    "    \r\n",
    "    tel = str(input())\r\n",
    "    match = re.findall(pattern, tel)\r\n",
    "    \r\n",
    "    if match:\r\n",
    "        print(\"Valid\")\r\n",
    "    else:\r\n",
    "        print(\"Invalid\")"
   ],
   "outputs": [],
   "metadata": {}
  },
  {
   "cell_type": "markdown",
   "source": [
    "# Validating Credit Card Numbers"
   ],
   "metadata": {}
  },
  {
   "cell_type": "code",
   "execution_count": null,
   "source": [
    "import re\r\n",
    "\r\n",
    "pattern_valid = r\"[456][0-9]{3}(-?[0-9]{4}){3}$\"\r\n",
    "pattern_repeated = r\"(([0-9])-?(?!(-?\\2){3})){16}\"\r\n",
    "\r\n",
    "pattern = r'^$'\r\n",
    "\r\n",
    "N = int(input())\r\n",
    "\r\n",
    "for i in range(N):\r\n",
    "    \r\n",
    "    tel = str(input())\r\n",
    "    match_card = re.match(pattern_valid, tel)\r\n",
    "    match_repeats = re.match(pattern_repeated, tel)\r\n",
    "    \r\n",
    "    if match_card and match_repeats:\r\n",
    "        print(\"Valid\")\r\n",
    "    else:\r\n",
    "        print(\"Invalid\")"
   ],
   "outputs": [],
   "metadata": {}
  },
  {
   "cell_type": "markdown",
   "source": [
    "# Validating Postal Codes"
   ],
   "metadata": {}
  },
  {
   "cell_type": "code",
   "execution_count": null,
   "source": [
    "regex_integer_in_range = r\"^[1-9][0-9]{5}$\"\r\n",
    "regex_alternating_repetitive_digit_pair = r\"([0-9])(?=[0-9]\\1)\"\r\n",
    "\r\n",
    "\r\n",
    "import re\r\n",
    "P = input()\r\n",
    "\r\n",
    "print (bool(re.match(regex_integer_in_range, P)) \r\n",
    "and len(re.findall(regex_alternating_repetitive_digit_pair, P)) < 2)"
   ],
   "outputs": [],
   "metadata": {}
  },
  {
   "cell_type": "markdown",
   "source": [
    "# Matrix Script"
   ],
   "metadata": {}
  },
  {
   "cell_type": "code",
   "execution_count": null,
   "source": [
    "#!/bin/python3\r\n",
    "\r\n",
    "import math\r\n",
    "import os\r\n",
    "import random\r\n",
    "import re\r\n",
    "import sys\r\n",
    "\r\n",
    "\r\n",
    "\r\n",
    "\r\n",
    "first_multiple_input = input().rstrip().split()\r\n",
    "\r\n",
    "n = int(first_multiple_input[0])\r\n",
    "\r\n",
    "m = int(first_multiple_input[1])\r\n",
    "\r\n",
    "matrix = []\r\n",
    "\r\n",
    "for _ in range(n):\r\n",
    "    matrix_item = input()\r\n",
    "    matrix.append(matrix_item)\r\n",
    "\r\n",
    "string = \"\"\r\n",
    "pattern = r'(?<=[a-zA-Z0-9])([^a-zA-Z0-9]+)(?=[a-zA-z0-9])'\r\n",
    "\r\n",
    "for i in zip(*matrix):\r\n",
    "    string += \"\".join(i)\r\n",
    "\r\n",
    "substitute = re.sub(pattern, \" \", string)\r\n",
    "\r\n",
    "print(substitute)"
   ],
   "outputs": [],
   "metadata": {}
  }
 ],
 "metadata": {
  "orig_nbformat": 4,
  "language_info": {
   "name": "python"
  }
 },
 "nbformat": 4,
 "nbformat_minor": 2
}